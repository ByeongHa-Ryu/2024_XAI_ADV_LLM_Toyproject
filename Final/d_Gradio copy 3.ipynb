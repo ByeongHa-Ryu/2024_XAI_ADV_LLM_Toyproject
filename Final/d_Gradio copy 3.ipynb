{
 "cells": [
  {
   "cell_type": "code",
   "execution_count": 6,
   "metadata": {},
   "outputs": [],
   "source": [
    "import gradio as gr\n",
    "from a_login import *\n",
    "from b_function_visualization import *\n",
    "# from c_chatbot import *\n",
    "import matplotlib.pyplot as plt\n",
    "from tunghooroo import *"
   ]
  },
  {
   "cell_type": "code",
   "execution_count": 7,
   "metadata": {},
   "outputs": [],
   "source": [
    "# # Gradio 함수\n",
    "# def visualize_top_categories(k):\n",
    "#     plt = plot_top_category(global_user_data, k)\n",
    "#     return plt\n",
    "\n",
    "# def visualize_monthly_consumption(year):\n",
    "#     plt = plot_monthly_consumption(global_user_data, year)\n",
    "#     return plt\n",
    "\n",
    "# def recommend_card():\n",
    "#     response = fix_card_recommendation()\n",
    "#     return response"
   ]
  },
  {
   "cell_type": "code",
   "execution_count": 12,
   "metadata": {},
   "outputs": [
    {
     "name": "stderr",
     "output_type": "stream",
     "text": [
      "c:\\Users\\USER\\AppData\\Local\\Programs\\Python\\Python39\\lib\\site-packages\\gradio\\utils.py:1002: UserWarning: Expected 0 arguments for function <function run_agent_continuously at 0x000001CF9328AAF0>, received 2.\n",
      "  warnings.warn(\n",
      "c:\\Users\\USER\\AppData\\Local\\Programs\\Python\\Python39\\lib\\site-packages\\gradio\\utils.py:1010: UserWarning: Expected maximum 0 arguments for function <function run_agent_continuously at 0x000001CF9328AAF0>, received 2.\n",
      "  warnings.warn(\n",
      "C:\\Users\\USER\\AppData\\Local\\Temp\\ipykernel_18400\\4287036407.py:87: DeprecationWarning: AnyThreadEventLoopPolicy is deprecated, use asyncio.run or asyncio.new_event_loop instead\n",
      "  asyncio.set_event_loop_policy(AnyThreadEventLoopPolicy())\n"
     ]
    },
    {
     "name": "stdout",
     "output_type": "stream",
     "text": [
      "Running on local URL:  http://127.0.0.1:7860\n",
      "\n",
      "Could not create share link. Please check your internet connection or our status page: https://status.gradio.app.\n"
     ]
    },
    {
     "data": {
      "text/html": [
       "<div><iframe src=\"http://127.0.0.1:7860/\" width=\"100%\" height=\"500\" allow=\"autoplay; camera; microphone; clipboard-read; clipboard-write;\" frameborder=\"0\" allowfullscreen></iframe></div>"
      ],
      "text/plain": [
       "<IPython.core.display.HTML object>"
      ]
     },
     "metadata": {},
     "output_type": "display_data"
    }
   ],
   "source": [
    "import asyncio\n",
    "from tornado.platform.asyncio import AnyThreadEventLoopPolicy\n",
    "global_user_data = None\n",
    "\n",
    "\n",
    "with gr.Blocks() as demo:\n",
    "    gr.Markdown(\"# 통장이 텅텅 돈이 후루룩\")\n",
    "\n",
    "    with gr.Row():\n",
    "        gr.Markdown(\"## 사용자 거래 데이터 및 로그인 시스템\")\n",
    "        username_input = gr.Textbox(label=\"사용자 이름\", placeholder=\"사용자 이름을 입력하세요\")\n",
    "        account_number_input = gr.Textbox(label=\"계좌 번호\", placeholder=\"계좌 번호를 입력하세요\")\n",
    "        login_button = gr.Button(\"로그인\")\n",
    "        output_text = gr.Textbox(label=\"결과\", interactive=False)\n",
    "\n",
    "# ============================================================================================================\n",
    "    with gr.Row():  # 1행 3열로 구성\n",
    "        with gr.Column():\n",
    "        # 1행 1열: Tab 구성 => 지출별 top 카테고리 시각화 & 월별 소비내역 시각화\n",
    "            with gr.Tabs() as tabs:\n",
    "                with gr.Tab(label=\"지출별 Top 카테고리 시각화\"):\n",
    "                    top_category_plot = gr.Image(label=\"지출별 Top 카테고리 시각화\", visible=False)\n",
    "                with gr.Tab(label=\"월별 소비내역 시각화\"):\n",
    "                    # 연도를 선택하는 라디오 버튼 추가\n",
    "                    year_radio = gr.Radio(choices=[2022, 2023, 2024], label=\"연도 선택\", value=2024)\n",
    "                    # monthly_consumption_plot = gr.Image(label=\"월별 소비내역 시각화\", visible=True)\n",
    "                    monthly_consumption_plot = gr.Plot(label=\"월별 소비내역 시각화\", visible=True)\n",
    "\n",
    "        # 1행 2열: 지출 top으로 도출되는 별명 출력\n",
    "        with gr.Column():\n",
    "            top_category_character = gr.Textbox(label=\" 별명\", visible=False, interactive=False)\n",
    "\n",
    "        # 1행 3열: 카드 추천 함수로부터 도출되는 카드 추천 설명\n",
    "        with gr.Column():\n",
    "            card_recommendation_output = gr.Textbox(label=\"카드 추천 결과\", visible=False, interactive=False)\n",
    "        \n",
    "    # # 연도 선택 라디오 버튼이 변경되면 월별 소비내역 시각화 업데이트\n",
    "    # def update_monthly_consumption(user_data, year):\n",
    "    #     return plot_monthly_consumption(global_user_data, year)\n",
    "    def update_monthly_consumption(selected_year):\n",
    "        global global_user_data\n",
    "        if global_user_data is not None:\n",
    "            # 월별 소비 내역 시각화\n",
    "            monthly_consumption_img = plot_monthly_consumption(global_user_data, selected_year)\n",
    "            return gr.update(value=monthly_consumption_img, visible=True)\n",
    "        else:\n",
    "            return gr.update(visible=False)\n",
    "\n",
    "    year_radio.change(\n",
    "        fn=update_monthly_consumption,\n",
    "        inputs=[year_radio],  # user_data를 인자로 추가\n",
    "        outputs=monthly_consumption_plot\n",
    "    )\n",
    "\n",
    "# ============================================================================================================\n",
    "    chatbot_column = gr.Column(visible=False)\n",
    "    with chatbot_column:\n",
    "        # 하단에 챗봇 (초기에는 표시하지 않음)\n",
    "        iface = gr.ChatInterface(\n",
    "            run_agent_continuously,  # 여기서 chatbot 함수가 message와 history 인자를 받습니다.\n",
    "            title=\"텅후루 톡\",\n",
    "            description=\"안녕하세요! 챗봇 가계부 텅후룩입니다!\",\n",
    "            theme=\"default\",\n",
    "            examples=[ [\"고정지출을 분석해줘\"], [\"다음달 예상 지출 내역을 알려줘\"], ['나의 지출 패턴을 분석해줘'], \n",
    "                      [\"내 소비 패턴에 맞는 카드를 추천해줘\"], [\"포인트 적립이 높은 카드는 무엇인가요?\"] ],\n",
    "            retry_btn=\"다시보내기 ↩\",\n",
    "            undo_btn=\"이전챗 삭제 ❌\",\n",
    "            clear_btn=\"전챗 삭제 💫\"\n",
    "        )\n",
    "\n",
    "# ============================================================================================================\n",
    "    login_button.click(\n",
    "        fn=login,\n",
    "        inputs=[username_input, account_number_input, year_radio],  # 라디오 버튼의 연도 값도 입력으로 추가\n",
    "        outputs=[\n",
    "                 output_text,\n",
    "                 top_category_plot,  # 이미지로 처리                 \n",
    "                 year_radio,        # year_radio 표시 - 월별 시각화\n",
    "                 monthly_consumption_plot,  # 이미지로 처리\n",
    "                 top_category_character, # 별명\n",
    "                 card_recommendation_output, # 카드 추천\n",
    "                 chatbot_column ], # 챗봇\n",
    "        queue=False\n",
    "    )\n",
    "    \n",
    "\n",
    "asyncio.set_event_loop_policy(AnyThreadEventLoopPolicy())\n",
    "\n",
    "# Gradio 앱 실행\n",
    "demo.launch(debug=True, share=True)"
   ]
  },
  {
   "cell_type": "code",
   "execution_count": null,
   "metadata": {},
   "outputs": [],
   "source": []
  }
 ],
 "metadata": {
  "kernelspec": {
   "display_name": "Python 3",
   "language": "python",
   "name": "python3"
  },
  "language_info": {
   "codemirror_mode": {
    "name": "ipython",
    "version": 3
   },
   "file_extension": ".py",
   "mimetype": "text/x-python",
   "name": "python",
   "nbconvert_exporter": "python",
   "pygments_lexer": "ipython3",
   "version": "3.9.7"
  }
 },
 "nbformat": 4,
 "nbformat_minor": 2
}
