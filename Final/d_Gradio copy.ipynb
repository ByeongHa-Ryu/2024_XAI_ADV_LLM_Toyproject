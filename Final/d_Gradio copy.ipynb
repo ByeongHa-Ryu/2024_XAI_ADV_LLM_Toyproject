{
 "cells": [
  {
   "cell_type": "code",
   "execution_count": 10,
   "metadata": {},
   "outputs": [],
   "source": [
    "import gradio as gr\n",
    "from a_login import *\n",
    "from b_function_visualization import *\n",
    "from c_chatbot import *\n",
    "import matplotlib.pyplot as plt"
   ]
  },
  {
   "cell_type": "code",
   "execution_count": 11,
   "metadata": {},
   "outputs": [],
   "source": [
    "# # Gradio 함수\n",
    "# def visualize_top_categories(k):\n",
    "#     plt = plot_top_category(global_user_data, k)\n",
    "#     return plt\n",
    "\n",
    "# def visualize_monthly_consumption(year):\n",
    "#     plt = plot_monthly_consumption(global_user_data, year)\n",
    "#     return plt\n",
    "\n",
    "# def recommend_card():\n",
    "#     response = fix_card_recommendation()\n",
    "#     return response"
   ]
  },
  {
   "cell_type": "code",
   "execution_count": 12,
   "metadata": {},
   "outputs": [
    {
     "name": "stderr",
     "output_type": "stream",
     "text": [
      "c:\\Users\\USER\\AppData\\Local\\Programs\\Python\\Python39\\lib\\site-packages\\gradio\\utils.py:1002: UserWarning: Expected 3 arguments for function <function login at 0x000001F8B4707430>, received 2.\n",
      "  warnings.warn(\n",
      "c:\\Users\\USER\\AppData\\Local\\Programs\\Python\\Python39\\lib\\site-packages\\gradio\\utils.py:1006: UserWarning: Expected at least 3 arguments for function <function login at 0x000001F8B4707430>, received 2.\n",
      "  warnings.warn(\n"
     ]
    },
    {
     "name": "stdout",
     "output_type": "stream",
     "text": [
      "Running on local URL:  http://127.0.0.1:7860\n",
      "\n",
      "Could not create share link. Please check your internet connection or our status page: https://status.gradio.app.\n"
     ]
    },
    {
     "data": {
      "text/html": [
       "<div><iframe src=\"http://127.0.0.1:7860/\" width=\"100%\" height=\"500\" allow=\"autoplay; camera; microphone; clipboard-read; clipboard-write;\" frameborder=\"0\" allowfullscreen></iframe></div>"
      ],
      "text/plain": [
       "<IPython.core.display.HTML object>"
      ]
     },
     "metadata": {},
     "output_type": "display_data"
    },
    {
     "name": "stderr",
     "output_type": "stream",
     "text": [
      "c:\\Users\\USER\\AppData\\Local\\Programs\\Python\\Python39\\lib\\site-packages\\gradio\\helpers.py:978: UserWarning: Unexpected argument. Filling with None.\n",
      "  warnings.warn(\"Unexpected argument. Filling with None.\")\n",
      "Traceback (most recent call last):\n",
      "  File \"c:\\Users\\USER\\AppData\\Local\\Programs\\Python\\Python39\\lib\\site-packages\\gradio\\routes.py\", line 789, in predict\n",
      "    output = await route_utils.call_process_api(\n",
      "  File \"c:\\Users\\USER\\AppData\\Local\\Programs\\Python\\Python39\\lib\\site-packages\\gradio\\route_utils.py\", line 321, in call_process_api\n",
      "    output = await app.get_blocks().process_api(\n",
      "  File \"c:\\Users\\USER\\AppData\\Local\\Programs\\Python\\Python39\\lib\\site-packages\\gradio\\blocks.py\", line 1935, in process_api\n",
      "    result = await self.call_function(\n",
      "  File \"c:\\Users\\USER\\AppData\\Local\\Programs\\Python\\Python39\\lib\\site-packages\\gradio\\blocks.py\", line 1520, in call_function\n",
      "    prediction = await anyio.to_thread.run_sync(  # type: ignore\n",
      "  File \"c:\\Users\\USER\\AppData\\Local\\Programs\\Python\\Python39\\lib\\site-packages\\anyio\\to_thread.py\", line 56, in run_sync\n",
      "    return await get_async_backend().run_sync_in_worker_thread(\n",
      "  File \"c:\\Users\\USER\\AppData\\Local\\Programs\\Python\\Python39\\lib\\site-packages\\anyio\\_backends\\_asyncio.py\", line 2177, in run_sync_in_worker_thread\n",
      "    return await future\n",
      "  File \"c:\\Users\\USER\\AppData\\Local\\Programs\\Python\\Python39\\lib\\site-packages\\anyio\\_backends\\_asyncio.py\", line 859, in run\n",
      "    result = context.run(func, *args)\n",
      "  File \"c:\\Users\\USER\\AppData\\Local\\Programs\\Python\\Python39\\lib\\site-packages\\gradio\\utils.py\", line 826, in wrapper\n",
      "    response = f(*args, **kwargs)\n",
      "  File \"c:\\Users\\USER\\Desktop\\git\\2024_XAI_ADV_LLM_Toyproject\\손아현\\Final\\a_login.py\", line 61, in login\n",
      "    gr.update(value= top_category_img, visible=True),  # 지출 top 시각화\n",
      "AttributeError: type object 'Image' has no attribute 'update'\n"
     ]
    }
   ],
   "source": [
    "with gr.Blocks() as demo:\n",
    "    gr.Markdown(\"# 통장이 텅텅 돈이 후루룩\")\n",
    "\n",
    "    with gr.Row():\n",
    "        gr.Markdown(\"## 사용자 거래 데이터 및 로그인 시스템\")\n",
    "        username_input = gr.Textbox(label=\"사용자 이름\", placeholder=\"사용자 이름을 입력하세요\")\n",
    "        account_number_input = gr.Textbox(label=\"계좌 번호\", placeholder=\"계좌 번호를 입력하세요\")\n",
    "        login_button = gr.Button(\"로그인\")\n",
    "        output_text = gr.Textbox(label=\"결과\", interactive=False)\n",
    "\n",
    "# ============================================================================================================\n",
    "    with gr.Row():  # 1행 3열로 구성\n",
    "        with gr.Column():\n",
    "        # 1행 1열: Tab 구성 => 지출별 top 카테고리 시각화 & 월별 소비내역 시각화\n",
    "            with gr.Tabs() as tabs:\n",
    "                with gr.Tab(label=\"지출별 Top 카테고리 시각화\"):\n",
    "                    top_category_plot = gr.Image(label=\"지출별 Top 카테고리 시각화\", visible=False)\n",
    "                with gr.Tab(label=\"월별 소비내역 시각화\"):\n",
    "                    # 연도를 선택하는 라디오 버튼 추가\n",
    "                    year_radio = gr.Radio(choices=[2022, 2023, 2024], label=\"연도 선택\", value=2023)\n",
    "                    monthly_consumption_plot = gr.Image(label=\"월별 소비내역 시각화\", visible=True)\n",
    "\n",
    "        # 1행 2열: 지출 top으로 도출되는 별명 출력\n",
    "        with gr.Column():\n",
    "            top_category_character = gr.Textbox(label=\" 별명\", visible=False, interactive=False)\n",
    "\n",
    "        # 1행 3열: 카드 추천 함수로부터 도출되는 카드 추천 설명\n",
    "        with gr.Column():\n",
    "            card_recommendation_output = gr.Textbox(label=\"카드 추천 결과\", visible=False, interactive=False)\n",
    "        \n",
    "        # 연도 선택 라디오 버튼이 변경되면 월별 소비내역 시각화 업데이트\n",
    "    def update_monthly_consumption(year):\n",
    "        return plot_monthly_consumption(df, year)\n",
    "\n",
    "    year_radio.change(\n",
    "        fn=update_monthly_consumption,\n",
    "        inputs=year_radio,\n",
    "        outputs=monthly_consumption_plot\n",
    "    )\n",
    "\n",
    "\n",
    "# ============================================================================================================\n",
    "    chatbot_column = gr.Column(visible=False)\n",
    "    with chatbot_column:\n",
    "        # 하단에 챗봇 (초기에는 표시하지 않음)\n",
    "        iface = gr.ChatInterface(\n",
    "            chatbot,\n",
    "            title=\"텅후루 톡\",\n",
    "            description=\"안녕하세요! 챗봇 가계부 텅후룩입니다!\",\n",
    "            theme=\"default\",\n",
    "            examples=[ [\"고정지출을 분석해줘\"], [\"다음달 예상 지출 내역을 알려줘\"], ['나의 지출 패턴을 분석해줘'], \n",
    "                      [\"내 소비 패턴에 맞는 카드를 추천해줘\"], [\"포인트 적립이 높은 카드는 무엇인가요?\"] ],\n",
    "            retry_btn=\"다시보내기 ↩\",\n",
    "            undo_btn=\"이전챗 삭제 ❌\",\n",
    "            clear_btn=\"전챗 삭제 💫\"\n",
    "        )\n",
    "\n",
    "# ============================================================================================================\n",
    "    # login_button 클릭 시 login 함수 호출\n",
    "    login_button.click(\n",
    "        fn=login,\n",
    "        inputs=[username_input, account_number_input],\n",
    "        outputs=[output_text, \n",
    "                 top_category_plot, year_radio, \n",
    "                 monthly_consumption_plot, \n",
    "                 top_category_character,\n",
    "                 chatbot_column ],\n",
    "        queue=False\n",
    "    )\n",
    "\n",
    "# Gradio 앱 실행\n",
    "demo.launch(debug=True, share=True)"
   ]
  },
  {
   "cell_type": "code",
   "execution_count": null,
   "metadata": {},
   "outputs": [],
   "source": []
  },
  {
   "cell_type": "code",
   "execution_count": null,
   "metadata": {},
   "outputs": [],
   "source": []
  }
 ],
 "metadata": {
  "kernelspec": {
   "display_name": "Python 3",
   "language": "python",
   "name": "python3"
  },
  "language_info": {
   "codemirror_mode": {
    "name": "ipython",
    "version": 3
   },
   "file_extension": ".py",
   "mimetype": "text/x-python",
   "name": "python",
   "nbconvert_exporter": "python",
   "pygments_lexer": "ipython3",
   "version": "3.9.7"
  }
 },
 "nbformat": 4,
 "nbformat_minor": 2
}
