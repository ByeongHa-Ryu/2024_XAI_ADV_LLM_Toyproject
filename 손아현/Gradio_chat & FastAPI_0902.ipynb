{
 "cells": [
  {
   "cell_type": "markdown",
   "metadata": {},
   "source": [
    "# Toy Project\n",
    "\n",
    "### ▪ 목표\n",
    "사전 학습된 라벨링 모델을 사용하여 소비 내역 데이터를 분석하고, 그 결과를 Gradio의 챗봇 형식으로 사용자에게 제공"
   ]
  },
  {
   "cell_type": "code",
   "execution_count": 1,
   "metadata": {},
   "outputs": [],
   "source": [
    "# !pip install gradio openai python-dotenv langchain langchain_community sentence-transformers tabulate"
   ]
  },
  {
   "cell_type": "code",
   "execution_count": 2,
   "metadata": {},
   "outputs": [
    {
     "name": "stderr",
     "output_type": "stream",
     "text": [
      "c:\\Users\\USER\\AppData\\Local\\Programs\\Python\\Python39\\lib\\site-packages\\tqdm\\auto.py:21: TqdmWarning: IProgress not found. Please update jupyter and ipywidgets. See https://ipywidgets.readthedocs.io/en/stable/user_install.html\n",
      "  from .autonotebook import tqdm as notebook_tqdm\n"
     ]
    },
    {
     "name": "stdout",
     "output_type": "stream",
     "text": [
      "WARNING:tensorflow:From c:\\Users\\USER\\AppData\\Local\\Programs\\Python\\Python39\\lib\\site-packages\\keras\\src\\losses.py:2976: The name tf.losses.sparse_softmax_cross_entropy is deprecated. Please use tf.compat.v1.losses.sparse_softmax_cross_entropy instead.\n",
      "\n"
     ]
    }
   ],
   "source": [
    "from fastapi import FastAPI, HTTPException\n",
    "from pydantic import BaseModel\n",
    "import pandas as pd\n",
    "import seaborn as sns\n",
    "import matplotlib.pyplot as plt\n",
    "import torch\n",
    "from typing import List\n",
    "import gradio as gr\n",
    "from transformers import pipeline, BertTokenizer\n",
    "from kobert_transformers import get_kobert_model\n",
    "import requests\n",
    "\n",
    "import os\n",
    "import fitz  # PyMuPDF for PDF processing\n",
    "import pickle\n",
    "import pytesseract  # OCR 라이브러리\n",
    "from PIL import Image  # 이미지를 열기 위한 라이브러리\n",
    "\n",
    "# Langchain 관련 라이브러리\n",
    "from langchain.embeddings import HuggingFaceEmbeddings\n",
    "from langchain.vectorstores import FAISS\n",
    "\n",
    "# 환경 변수 로드를 위한 라이브러리\n",
    "from dotenv import load_dotenv\n",
    "\n",
    "# Langchain 추가 라이브러리\n",
    "from langchain.prompts import PromptTemplate\n",
    "from langchain_core.output_parsers import StrOutputParser, BaseOutputParser\n",
    "from langchain_openai import ChatOpenAI\n",
    "from langchain_experimental.agents import create_pandas_dataframe_agent\n",
    "from langchain.agents.agent_types import AgentType"
   ]
  },
  {
   "cell_type": "code",
   "execution_count": 3,
   "metadata": {},
   "outputs": [
    {
     "name": "stdout",
     "output_type": "stream",
     "text": [
      "No virtual environment is active.\n",
      ".env loaded :  True\n"
     ]
    }
   ],
   "source": [
    "# 가상환경 확인 및 env 파일 Load \n",
    "virtual_env = os.environ.get('VIRTUAL_ENV')\n",
    "if virtual_env:\n",
    "    print(\"Virtual environment is active.\")\n",
    "    print(\"Virtual Environment Path:\", virtual_env)\n",
    "else:\n",
    "    print(\"No virtual environment is active.\")\n",
    "\n",
    "# .env 파일 로드\n",
    "print('.env loaded : ', load_dotenv())\n",
    "\n",
    "# 환경 변수에서 API 키 가져오기\n",
    "API_KEY = os.getenv(\"OPENAI_API_KEY\")\n",
    "\n",
    "# API_KEY가 제대로 로드되었는지 확인\n",
    "if not API_KEY:\n",
    "    raise ValueError(\"API_KEY가 설정되지 않았습니다. .env 파일에 OPENAI_API_KEY를 설정하세요.\")\n",
    "\n",
    "# LLM 초기화\n",
    "llm = ChatOpenAI(temperature=0.1, openai_api_key=API_KEY)"
   ]
  },
  {
   "cell_type": "markdown",
   "metadata": {},
   "source": [
    "DF 작업 - 각 계좌내역과 이름 넣기"
   ]
  },
  {
   "cell_type": "code",
   "execution_count": 4,
   "metadata": {},
   "outputs": [
    {
     "data": {
      "text/html": [
       "<div>\n",
       "<style scoped>\n",
       "    .dataframe tbody tr th:only-of-type {\n",
       "        vertical-align: middle;\n",
       "    }\n",
       "\n",
       "    .dataframe tbody tr th {\n",
       "        vertical-align: top;\n",
       "    }\n",
       "\n",
       "    .dataframe thead th {\n",
       "        text-align: right;\n",
       "    }\n",
       "</style>\n",
       "<table border=\"1\" class=\"dataframe\">\n",
       "  <thead>\n",
       "    <tr style=\"text-align: right;\">\n",
       "      <th></th>\n",
       "      <th>거래일시</th>\n",
       "      <th>적요</th>\n",
       "      <th>의뢰인/수취인</th>\n",
       "      <th>내통장표시내용</th>\n",
       "      <th>출금금액</th>\n",
       "      <th>입금금액</th>\n",
       "      <th>잔액</th>\n",
       "      <th>취급점</th>\n",
       "      <th>구분</th>\n",
       "    </tr>\n",
       "  </thead>\n",
       "  <tbody>\n",
       "    <tr>\n",
       "      <th>0</th>\n",
       "      <td>2024-07-01 17:15:47</td>\n",
       "      <td>체크카드</td>\n",
       "      <td>시외버스모바일(티</td>\n",
       "      <td>NaN</td>\n",
       "      <td>12,800</td>\n",
       "      <td>0</td>\n",
       "      <td>33,578</td>\n",
       "      <td>KB카드</td>\n",
       "      <td></td>\n",
       "    </tr>\n",
       "    <tr>\n",
       "      <th>1</th>\n",
       "      <td>2024-07-01 17:15:09</td>\n",
       "      <td>체크카드</td>\n",
       "      <td>시외버스모바일(티</td>\n",
       "      <td>NaN</td>\n",
       "      <td>0</td>\n",
       "      <td>12,800</td>\n",
       "      <td>46,378</td>\n",
       "      <td>KB카드</td>\n",
       "      <td>취소</td>\n",
       "    </tr>\n",
       "    <tr>\n",
       "      <th>2</th>\n",
       "      <td>2024-07-01 16:29:37</td>\n",
       "      <td>체크카드</td>\n",
       "      <td>시외버스모바일(티</td>\n",
       "      <td>NaN</td>\n",
       "      <td>12,800</td>\n",
       "      <td>0</td>\n",
       "      <td>33,578</td>\n",
       "      <td>KB카드</td>\n",
       "      <td>취소된거래</td>\n",
       "    </tr>\n",
       "  </tbody>\n",
       "</table>\n",
       "</div>"
      ],
      "text/plain": [
       "                  거래일시    적요    의뢰인/수취인 내통장표시내용    출금금액    입금금액      잔액   취급점  \\\n",
       "0  2024-07-01 17:15:47  체크카드  시외버스모바일(티     NaN  12,800       0  33,578  KB카드   \n",
       "1  2024-07-01 17:15:09  체크카드  시외버스모바일(티     NaN       0  12,800  46,378  KB카드   \n",
       "2  2024-07-01 16:29:37  체크카드  시외버스모바일(티     NaN  12,800       0  33,578  KB카드   \n",
       "\n",
       "      구분  \n",
       "0      　  \n",
       "1     취소  \n",
       "2  취소된거래  "
      ]
     },
     "execution_count": 4,
     "metadata": {},
     "output_type": "execute_result"
    }
   ],
   "source": [
    "df = pd.read_csv('전처리_내역.csv')\n",
    "df.head(3)"
   ]
  },
  {
   "cell_type": "code",
   "execution_count": 5,
   "metadata": {},
   "outputs": [
    {
     "data": {
      "text/html": [
       "<div>\n",
       "<style scoped>\n",
       "    .dataframe tbody tr th:only-of-type {\n",
       "        vertical-align: middle;\n",
       "    }\n",
       "\n",
       "    .dataframe tbody tr th {\n",
       "        vertical-align: top;\n",
       "    }\n",
       "\n",
       "    .dataframe thead th {\n",
       "        text-align: right;\n",
       "    }\n",
       "</style>\n",
       "<table border=\"1\" class=\"dataframe\">\n",
       "  <thead>\n",
       "    <tr style=\"text-align: right;\">\n",
       "      <th></th>\n",
       "      <th>이름</th>\n",
       "      <th>계좌번호</th>\n",
       "      <th>거래일시</th>\n",
       "      <th>적요</th>\n",
       "      <th>의뢰인/수취인</th>\n",
       "      <th>내통장표시내용</th>\n",
       "      <th>출금금액</th>\n",
       "      <th>입금금액</th>\n",
       "      <th>잔액</th>\n",
       "      <th>취급점</th>\n",
       "      <th>구분</th>\n",
       "    </tr>\n",
       "  </thead>\n",
       "  <tbody>\n",
       "    <tr>\n",
       "      <th>0</th>\n",
       "      <td>한윤지</td>\n",
       "      <td>12345</td>\n",
       "      <td>2024-07-01 17:15:47</td>\n",
       "      <td>체크카드</td>\n",
       "      <td>시외버스모바일(티</td>\n",
       "      <td>NaN</td>\n",
       "      <td>12,800</td>\n",
       "      <td>0</td>\n",
       "      <td>33,578</td>\n",
       "      <td>KB카드</td>\n",
       "      <td></td>\n",
       "    </tr>\n",
       "    <tr>\n",
       "      <th>1</th>\n",
       "      <td>한윤지</td>\n",
       "      <td>12345</td>\n",
       "      <td>2024-07-01 17:15:09</td>\n",
       "      <td>체크카드</td>\n",
       "      <td>시외버스모바일(티</td>\n",
       "      <td>NaN</td>\n",
       "      <td>0</td>\n",
       "      <td>12,800</td>\n",
       "      <td>46,378</td>\n",
       "      <td>KB카드</td>\n",
       "      <td>취소</td>\n",
       "    </tr>\n",
       "    <tr>\n",
       "      <th>2</th>\n",
       "      <td>한윤지</td>\n",
       "      <td>12345</td>\n",
       "      <td>2024-07-01 16:29:37</td>\n",
       "      <td>체크카드</td>\n",
       "      <td>시외버스모바일(티</td>\n",
       "      <td>NaN</td>\n",
       "      <td>12,800</td>\n",
       "      <td>0</td>\n",
       "      <td>33,578</td>\n",
       "      <td>KB카드</td>\n",
       "      <td>취소된거래</td>\n",
       "    </tr>\n",
       "  </tbody>\n",
       "</table>\n",
       "</div>"
      ],
      "text/plain": [
       "    이름   계좌번호                 거래일시    적요    의뢰인/수취인 내통장표시내용    출금금액    입금금액  \\\n",
       "0  한윤지  12345  2024-07-01 17:15:47  체크카드  시외버스모바일(티     NaN  12,800       0   \n",
       "1  한윤지  12345  2024-07-01 17:15:09  체크카드  시외버스모바일(티     NaN       0  12,800   \n",
       "2  한윤지  12345  2024-07-01 16:29:37  체크카드  시외버스모바일(티     NaN  12,800       0   \n",
       "\n",
       "       잔액   취급점     구분  \n",
       "0  33,578  KB카드      　  \n",
       "1  46,378  KB카드     취소  \n",
       "2  33,578  KB카드  취소된거래  "
      ]
     },
     "metadata": {},
     "output_type": "display_data"
    },
    {
     "data": {
      "text/html": [
       "<div>\n",
       "<style scoped>\n",
       "    .dataframe tbody tr th:only-of-type {\n",
       "        vertical-align: middle;\n",
       "    }\n",
       "\n",
       "    .dataframe tbody tr th {\n",
       "        vertical-align: top;\n",
       "    }\n",
       "\n",
       "    .dataframe thead th {\n",
       "        text-align: right;\n",
       "    }\n",
       "</style>\n",
       "<table border=\"1\" class=\"dataframe\">\n",
       "  <thead>\n",
       "    <tr style=\"text-align: right;\">\n",
       "      <th></th>\n",
       "      <th>이름</th>\n",
       "      <th>계좌번호</th>\n",
       "      <th>거래일시</th>\n",
       "      <th>적요</th>\n",
       "      <th>의뢰인/수취인</th>\n",
       "      <th>내통장표시내용</th>\n",
       "      <th>출금금액</th>\n",
       "      <th>입금금액</th>\n",
       "      <th>잔액</th>\n",
       "      <th>취급점</th>\n",
       "      <th>구분</th>\n",
       "    </tr>\n",
       "  </thead>\n",
       "  <tbody>\n",
       "    <tr>\n",
       "      <th>150</th>\n",
       "      <td>손아현</td>\n",
       "      <td>67890</td>\n",
       "      <td>2024-04-06 12:40:05</td>\n",
       "      <td>전자금융</td>\n",
       "      <td>한윤지</td>\n",
       "      <td>NaN</td>\n",
       "      <td>0</td>\n",
       "      <td>13,000</td>\n",
       "      <td>13,061</td>\n",
       "      <td>카뱅</td>\n",
       "      <td></td>\n",
       "    </tr>\n",
       "    <tr>\n",
       "      <th>151</th>\n",
       "      <td>손아현</td>\n",
       "      <td>67890</td>\n",
       "      <td>2024-04-03 12:56:19</td>\n",
       "      <td>스마트출금</td>\n",
       "      <td>한윤지</td>\n",
       "      <td>한윤지</td>\n",
       "      <td>600,000</td>\n",
       "      <td>0</td>\n",
       "      <td>61</td>\n",
       "      <td>청주중</td>\n",
       "      <td></td>\n",
       "    </tr>\n",
       "    <tr>\n",
       "      <th>152</th>\n",
       "      <td>손아현</td>\n",
       "      <td>67890</td>\n",
       "      <td>2024-04-03 12:55:36</td>\n",
       "      <td>전자금융</td>\n",
       "      <td>임진희</td>\n",
       "      <td>NaN</td>\n",
       "      <td>0</td>\n",
       "      <td>600,000</td>\n",
       "      <td>600,061</td>\n",
       "      <td>신용협동</td>\n",
       "      <td></td>\n",
       "    </tr>\n",
       "  </tbody>\n",
       "</table>\n",
       "</div>"
      ],
      "text/plain": [
       "      이름   계좌번호                 거래일시     적요 의뢰인/수취인 내통장표시내용     출금금액     입금금액  \\\n",
       "150  손아현  67890  2024-04-06 12:40:05   전자금융     한윤지     NaN        0   13,000   \n",
       "151  손아현  67890  2024-04-03 12:56:19  스마트출금     한윤지     한윤지  600,000        0   \n",
       "152  손아현  67890  2024-04-03 12:55:36   전자금융     임진희     NaN        0  600,000   \n",
       "\n",
       "          잔액   취급점 구분  \n",
       "150   13,061    카뱅  　  \n",
       "151       61   청주중  　  \n",
       "152  600,061  신용협동  　  "
      ]
     },
     "metadata": {},
     "output_type": "display_data"
    }
   ],
   "source": [
    "# 현재 데이터프레임의 행 수 확인\n",
    "num_rows = len(df)\n",
    "\n",
    "# '이름'과 'account_number' 컬럼 추가\n",
    "df.insert(0, '이름', ['한윤지' if i < 100 else '손아현' for i in range(num_rows)])\n",
    "df.insert(1, '계좌번호', ['12345' if i < 100 else '67890' for i in range(num_rows)])\n",
    "\n",
    "display(df.head(3))\n",
    "display(df.tail(3))"
   ]
  },
  {
   "cell_type": "markdown",
   "metadata": {},
   "source": [
    "# 1. [로그인] 함수 설정"
   ]
  },
  {
   "cell_type": "code",
   "execution_count": 6,
   "metadata": {},
   "outputs": [],
   "source": [
    "user_db = {\n",
    "    \"한윤지\": \"12345\",  # 예시 사용자\n",
    "    \"손아현\": \"67890\"\n",
    "}\n",
    "\n",
    "def login(username, password):\n",
    "    if username in user_db and user_db[username] == password:\n",
    "        user_data = df[df[\"이름\"] == username]  # 사용자 이름으로 데이터 필터링\n",
    "        return f\"로그인 성공! 환영합니다, {username}님!\", gr.update(value=user_data, visible=True), gr.update(visible=True, value=plot_user_data(user_data))\n",
    "    else:\n",
    "        return \"로그인 실패! 사용자 이름 또는 비밀번호가 잘못되었습니다.\", gr.update(visible=False), gr.update(visible=False)"
   ]
  },
  {
   "cell_type": "markdown",
   "metadata": {},
   "source": [
    "# 2. [시각화/DF] 함수 설정"
   ]
  },
  {
   "cell_type": "code",
   "execution_count": 7,
   "metadata": {},
   "outputs": [],
   "source": [
    "df['거래일시'] = pd.to_datetime(df['거래일시'], format='%Y-%m-%d')  # 날짜 형식에 맞게 수정\n",
    "\n",
    "# '월'만 추출 \n",
    "df['월'] = df['거래일시'].dt.to_period('M')  # 날짜에서 '월'만 추출하여 새로운 컬럼으로 추가\n",
    "card_transactions = df[df['적요'].str.contains('카드', na=False)]"
   ]
  },
  {
   "cell_type": "code",
   "execution_count": 8,
   "metadata": {},
   "outputs": [],
   "source": [
    "import matplotlib.pyplot as plt  \n",
    "import seaborn as sns\n",
    "\n",
    "# \"입금금액\" -> \"Deposit Amount\"\n",
    "# \"출금금액\" -> \"Withdrawal Amount\"\n",
    "# \"거래일시\" -> \"Transaction Date\"\n",
    "\n",
    "def plot_user_data(user_data):\n",
    "    # 1. 데이터 정리\n",
    "    ## 거래일시를 datetime 형식으로 변환\n",
    "    user_data['거래일시'] = pd.to_datetime(user_data['거래일시'])\n",
    "    ## 거래일시에서 월과 일을 추출하여 새로운 컬럼 추가\n",
    "    user_data['거래월일'] = user_data['거래일시'].dt.strftime('%m-%d')\n",
    "\n",
    "    # 2. 입금금액과 출금금액을 각각 정렬하여 시각화\n",
    "    ## Seaborn 스타일 설정\n",
    "    sns.set_style(\"whitegrid\")  # \"whitegrid\" 스타일 설정\n",
    "    custom_palette = [\"navy\", \"orange\"]\n",
    "    sns.set_palette(custom_palette)\n",
    "\n",
    "    ## 시각화\n",
    "    # (ci=None으로 신뢰 구간 제거)\n",
    "    sns.lineplot(x=\"거래월일\", y=sorted(user_data['입금금액']), data=user_data, marker='o', label=\"Deposit Amount\", linewidth=2, ci=None)\n",
    "    sns.lineplot(x=\"거래월일\", y=sorted(user_data['출금금액']), data=user_data, marker='o', label=\"Withdrawal Amount\", linewidth=2, ci=None)\n",
    "    \n",
    "    plt.title(\"Visualization of Deposits and Withdrawals\")\n",
    "    plt.xlabel(\"Transaction Date (MM-DD)\")\n",
    "    plt.ylabel(\"Amount\")\n",
    "    plt.xticks(rotation=30)  # X축 레이블을 30도 회전하여 더 잘 보이도록 함\n",
    "    plt.legend()\n",
    "\n",
    "    plot_path = \"user_transaction_plot.png\"\n",
    "    plt.savefig(plot_path)\n",
    "    plt.close()\n",
    "    return plot_path"
   ]
  },
  {
   "cell_type": "markdown",
   "metadata": {},
   "source": [
    "# 3. 챗봇"
   ]
  },
  {
   "cell_type": "markdown",
   "metadata": {},
   "source": [
    "## 3.1 [카드 추천] 함수 설정"
   ]
  },
  {
   "cell_type": "code",
   "execution_count": 9,
   "metadata": {},
   "outputs": [],
   "source": [
    "# 카드 추천 함수 (기존 유지, 이름만 변경 - (구)get_qa_chain )\n",
    "def card_recommendation():\n",
    "    try:\n",
    "        with open(\"vectordb.pkl\", \"rb\") as f:\n",
    "            vectordb = pickle.load(f)\n",
    "\n",
    "        texts = [doc.page_content for doc in vectordb.docstore._dict.values()]\n",
    "        bm25_retriever = BM25Retriever.from_texts(texts)\n",
    "        bm25_retriever.k = 5\n",
    "\n",
    "        faiss_retriever = vectordb.as_retriever(search_kwargs={\"k\": 5})\n",
    "\n",
    "        ensemble_retriever = EnsembleRetriever(\n",
    "            retrievers=[bm25_retriever, faiss_retriever],\n",
    "            weights=[0.5, 0.5]\n",
    "        )\n",
    "\n",
    "        llm = ChatOpenAI(model_name=\"gpt-3.5-turbo\", temperature=0, openai_api_key=openai_api_key)\n",
    "\n",
    "        prompt_template = \"\"\"당신은 카드 추천 시스템입니다. PDF 문서의 내용을 기반으로 사용자의 소비 패턴과 요구에 맞는 카드를 추천해 주세요.\n",
    "        주어진 컨텍스트를 사용하여 질문에 정확하고 간결하게 답변해 주세요.\n",
    "\n",
    "        컨텍스트:\n",
    "        {context}\n",
    "\n",
    "        질문: {question}\n",
    "\n",
    "        답변:\"\"\"\n",
    "\n",
    "        PROMPT = PromptTemplate(\n",
    "            template=prompt_template, input_variables=[\"context\", \"question\"]\n",
    "        )\n",
    "        qa_chain = RetrievalQA.from_chain_type(\n",
    "            llm=llm,\n",
    "            chain_type=\"stuff\",\n",
    "            retriever=ensemble_retriever,\n",
    "            return_source_documents=True,\n",
    "            chain_type_kwargs={\"prompt\": PROMPT}\n",
    "        )\n",
    "        return qa_chain\n",
    "    except Exception as e:\n",
    "        return f\"QA 체인 설정 중 오류가 발생했습니다: {e}\""
   ]
  },
  {
   "cell_type": "markdown",
   "metadata": {},
   "source": [
    "## 3.2 [챗봇] 함수 설정"
   ]
  },
  {
   "cell_type": "code",
   "execution_count": 10,
   "metadata": {},
   "outputs": [
    {
     "name": "stderr",
     "output_type": "stream",
     "text": [
      "c:\\Users\\USER\\AppData\\Local\\Programs\\Python\\Python39\\lib\\site-packages\\langchain_experimental\\agents\\agent_toolkits\\pandas\\base.py:283: UserWarning: Received additional kwargs {'output_parser': StrOutputParser()} which are no longer supported.\n",
      "  warnings.warn(\n"
     ]
    }
   ],
   "source": [
    "# 1. 사용자 정의 프롬프트 구성 (LLM 후처리용)\n",
    "## 에이전트가 생성한 분석 결과를 사용자가 이해하기 쉬운 형태로 변환\n",
    "post_processing_prompt = PromptTemplate(\n",
    "    input_variables=[\"analysis_result\"],\n",
    "    template=\"\"\"\n",
    "    다음은 은행 고객의 AI 비서가 생성한 분석 결과입니다:\n",
    "    {analysis_result}\n",
    "    이 결과를 바탕으로 고객이 쉽게 이해할 수 있도록 요약하고, 추가적으로 유용할 만한 정보를 제공하세요.\n",
    "    \"\"\"\n",
    ")\n",
    "\n",
    "# 에이전트 생성 (데이터프레임 분석 수행)\n",
    "agent = create_pandas_dataframe_agent(\n",
    "    llm=llm,                           \n",
    "    df=df,                             \n",
    "    verbose=True,                      \n",
    "    agent_type=AgentType.OPENAI_FUNCTIONS,\n",
    "    output_parser=StrOutputParser(),   \n",
    "    allow_dangerous_code=True )\n",
    "\n",
    "# 2. 분석과 관련 없는 일반적인 질문에 대해 답변 하도록\n",
    "main_prompt = ' 당신은 이름은 텅후루 입니다. 당신의 역할은 은행 고객의 AI비서가 생성한 분석 결과를 활용하여 대답하는 것입니다.'\n",
    "\n",
    "\n",
    "# 3. 질문을 세 가지 범주(분석 관련, 카드 관련, 일반 질문)로 분류하는 프롬프트\n",
    "analysis_check_prompt = PromptTemplate(\n",
    "    input_variables=[\"input_query\"],\n",
    "    template=\"\"\"\n",
    "    아래의 질문이 다음 세 가지 범주 중 어느 것에 해당하는지 판단해 주세요:\n",
    "    \n",
    "    1. 분석 관련: 사용자가 지출, 수입, 예산 등에 대한 분석을 요청하는 경우.\n",
    "    2. 카드 관련: 사용자가 신용카드, 혜택, 포인트 적립 등의 카드를 추천하거나 문의하는 경우.\n",
    "    3. 일반 질문: 위의 두 카테고리와 관련 없는 경우.\n",
    "\n",
    "    질문이 해당하는 범주 이름을 '분석 관련', '카드 관련', 또는 '일반 질문' 중 하나로만 대답하세요.\n",
    "\n",
    "    질문: {input_query}\n",
    "    답변:\n",
    "    \"\"\"\n",
    ")"
   ]
  },
  {
   "cell_type": "markdown",
   "metadata": {},
   "source": [
    "### 최종 챗봇 함수"
   ]
  },
  {
   "cell_type": "code",
   "execution_count": 11,
   "metadata": {},
   "outputs": [],
   "source": [
    "# 챗봇 기능 통합 함수\n",
    "## -> 병하 선배 'run_agent_continuously' 랑 합치기\n",
    "\n",
    "def chatbot_fn(message, history):\n",
    "    try:\n",
    "        # LLM을 사용하여 질문이 분석 관련인지 확인\n",
    "        classification_response = llm.invoke( input=analysis_check_prompt.format(input_query=message) )\n",
    "        classification_text = classification_response.content.strip()\n",
    "\n",
    "\n",
    "        # 1. 거래내역 분석 - LLM\n",
    "        if \"분석 관련\" in classification_text:\n",
    "            # 에이전트를 사용하여 질문에 대한 기본 분석 수행\n",
    "            analysis_result = agent.run(\n",
    "                name=\"텅후루\",\n",
    "                role=\"사용자의 소비내역을 기반으로 여러가지 질문에 답하고 분석 정보를 제공하는 것\",\n",
    "                input=message)\n",
    "            # LLM을 사용하여 에이전트 결과에 대한 후처리 수행\n",
    "            final_response = llm.invoke(\n",
    "                input=post_processing_prompt.format(analysis_result=analysis_result)\n",
    "            )\n",
    "            final_text = final_response.content.strip()\n",
    "        \n",
    "\n",
    "        # 2. 카드 추천 - 따로 함수에서 LLM\n",
    "        elif \"카드 관련\" in classification_text:\n",
    "            # 카드 추천 관련 질문은 qa_chain을 통해 처리\n",
    "            final_text = card_recommendation(\"qa_chain\", question=message)\n",
    "        \n",
    "\n",
    "        # 3. 일반 질문 - LLM -> main_prompt\n",
    "        else:\n",
    "            # 분석과 관련 없는 일반 질문은 LLM이 직접 답변\n",
    "            final_response = llm.invoke(\n",
    "                input=main_prompt.format(input_query=message)\n",
    "            )\n",
    "            final_text = final_response.content.strip()\n",
    "\n",
    "    except Exception as e:\n",
    "        final_text = f\"에러가 발생했습니다: {e}\"\n",
    "\n",
    "    return final_text"
   ]
  },
  {
   "cell_type": "markdown",
   "metadata": {},
   "source": [
    "# 4. Gradio 인터페이스 설정"
   ]
  },
  {
   "cell_type": "code",
   "execution_count": 12,
   "metadata": {},
   "outputs": [],
   "source": [
    "# '12345' \n",
    "# '67890'"
   ]
  },
  {
   "cell_type": "code",
   "execution_count": 13,
   "metadata": {},
   "outputs": [
    {
     "name": "stdout",
     "output_type": "stream",
     "text": [
      "Running on local URL:  http://127.0.0.1:7860\n",
      "\n",
      "Could not create share link. Please check your internet connection or our status page: https://status.gradio.app.\n"
     ]
    },
    {
     "data": {
      "text/html": [
       "<div><iframe src=\"http://127.0.0.1:7860/\" width=\"100%\" height=\"500\" allow=\"autoplay; camera; microphone; clipboard-read; clipboard-write;\" frameborder=\"0\" allowfullscreen></iframe></div>"
      ],
      "text/plain": [
       "<IPython.core.display.HTML object>"
      ]
     },
     "metadata": {},
     "output_type": "display_data"
    },
    {
     "name": "stderr",
     "output_type": "stream",
     "text": [
      "C:\\Users\\USER\\AppData\\Local\\Temp\\ipykernel_2932\\2109877016.py:11: SettingWithCopyWarning: \n",
      "A value is trying to be set on a copy of a slice from a DataFrame.\n",
      "Try using .loc[row_indexer,col_indexer] = value instead\n",
      "\n",
      "See the caveats in the documentation: https://pandas.pydata.org/pandas-docs/stable/user_guide/indexing.html#returning-a-view-versus-a-copy\n",
      "  user_data['거래일시'] = pd.to_datetime(user_data['거래일시'])\n",
      "C:\\Users\\USER\\AppData\\Local\\Temp\\ipykernel_2932\\2109877016.py:13: SettingWithCopyWarning: \n",
      "A value is trying to be set on a copy of a slice from a DataFrame.\n",
      "Try using .loc[row_indexer,col_indexer] = value instead\n",
      "\n",
      "See the caveats in the documentation: https://pandas.pydata.org/pandas-docs/stable/user_guide/indexing.html#returning-a-view-versus-a-copy\n",
      "  user_data['거래월일'] = user_data['거래일시'].dt.strftime('%m-%d')\n",
      "C:\\Users\\USER\\AppData\\Local\\Temp\\ipykernel_2932\\2109877016.py:23: FutureWarning: \n",
      "\n",
      "The `ci` parameter is deprecated. Use `errorbar=None` for the same effect.\n",
      "\n",
      "  sns.lineplot(x=\"거래월일\", y=sorted(user_data['입금금액']), data=user_data, marker='o', label=\"Deposit Amount\", linewidth=2, ci=None)\n",
      "C:\\Users\\USER\\AppData\\Local\\Temp\\ipykernel_2932\\2109877016.py:24: FutureWarning: \n",
      "\n",
      "The `ci` parameter is deprecated. Use `errorbar=None` for the same effect.\n",
      "\n",
      "  sns.lineplot(x=\"거래월일\", y=sorted(user_data['출금금액']), data=user_data, marker='o', label=\"Withdrawal Amount\", linewidth=2, ci=None)\n"
     ]
    }
   ],
   "source": [
    "with gr.Blocks() as demo:\n",
    "    # 1. 상단에 로그인 후 / 기본값으로 모든 소비 데이터를 표시\n",
    "    gr.Markdown(\"## 사용자 거래 데이터 및 로그인 시스템\")\n",
    "    with gr.Row():\n",
    "        # 오른쪽에 로그인 폼\n",
    "        username = gr.Textbox(label=\"사용자 이름\", placeholder=\"사용자 이름을 입력하세요\")\n",
    "        password = gr.Textbox(label=\"비밀번호\", type=\"password\", placeholder=\"비밀번호를 입력하세요\")\n",
    "        login_button = gr.Button(\"로그인\")\n",
    "        output = gr.Textbox(label=\"결과\", interactive=False)\n",
    "\n",
    "    with gr.Tabs():\n",
    "        with gr.Tab(label=\"데이터프레임\"):\n",
    "            user_data_table = gr.DataFrame(label=\"사용자 데이터\", visible=False, interactive=False)\n",
    "\n",
    "        with gr.Tab(label=\"시각화\"):\n",
    "            plot_output = gr.Image(label=\"시각화 결과\", visible=False)  # 시각화 결과를 위한 이미지 출력\n",
    "\n",
    "    # 로그인 버튼 클릭 후 화면에 변경사항이 나타나게 하기 위한 설정\n",
    "    login_button.click(fn=login, inputs=[username, password], \n",
    "                                 outputs=[output, user_data_table, plot_output])\n",
    "\n",
    "\n",
    "    # 2. 하단에 챗봇\n",
    "    with gr.Column():  \n",
    "        # Gradio interface\n",
    "        iface = gr.ChatInterface(\n",
    "            chatbot_fn,\n",
    "            title=\"통장이 텅텅 돈이 후루룩\",\n",
    "            description=\"안녕하세요! 챗봇 가계부 텅후룩입니다! 이름과 계좌번호를 '이름,계좌번호' 형식으로 입력해주세요.\",\n",
    "            theme=\"default\",\n",
    "            examples=[[\"고정지출을 분석해줘\"], [\"다음달 예상 지출 내역을 알려줘\"], ['나의 지출 패턴을 분석해줘'], [\"내 소비 패턴에 맞는 카드를 추천해줘\"], [\"포인트 적립이 높은 카드는 무엇인가요?\"]],\n",
    "\n",
    "            retry_btn=\"다시보내기 ↩\",\n",
    "            undo_btn=\"이전챗 삭제 ❌\",\n",
    "            clear_btn=\"전챗 삭제 💫\",\n",
    "        )\n",
    "    # with gr.Column():  \n",
    "    #     textbox=gr.Textbox(placeholder=\"어떤 것을 분석해드릴까요?\", container=False, scale=7),\n",
    "\n",
    "    \n",
    "# Launch Gradio interface\n",
    "demo.launch(debug=True, share=True)"
   ]
  },
  {
   "cell_type": "code",
   "execution_count": null,
   "metadata": {},
   "outputs": [],
   "source": []
  }
 ],
 "metadata": {
  "kernelspec": {
   "display_name": "Python 3",
   "language": "python",
   "name": "python3"
  },
  "language_info": {
   "codemirror_mode": {
    "name": "ipython",
    "version": 3
   },
   "file_extension": ".py",
   "mimetype": "text/x-python",
   "name": "python",
   "nbconvert_exporter": "python",
   "pygments_lexer": "ipython3",
   "version": "3.9.7"
  }
 },
 "nbformat": 4,
 "nbformat_minor": 2
}
